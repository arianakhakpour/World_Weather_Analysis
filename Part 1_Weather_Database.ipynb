{
 "metadata": {
  "language_info": {
   "codemirror_mode": {
    "name": "ipython",
    "version": 3
   },
   "file_extension": ".py",
   "mimetype": "text/x-python",
   "name": "python",
   "nbconvert_exporter": "python",
   "pygments_lexer": "ipython3",
   "version": "3.7.0"
  },
  "orig_nbformat": 2,
  "kernelspec": {
   "name": "python370jvsc74a57bd05572c7b15414d34e15d04c80987db17fef1cb2d73338f68ee8a8228bc15fcb96",
   "display_name": "Python 3.7.0 64-bit ('base': conda)"
  }
 },
 "nbformat": 4,
 "nbformat_minor": 2,
 "cells": [
  {
   "cell_type": "code",
   "execution_count": 1,
   "metadata": {},
   "outputs": [],
   "source": [
    "import pandas as pd\n",
    "import numpy as np\n",
    "import json\n",
    "import requests\n",
    "import random \n",
    "import time\n",
    "import gmaps\n",
    "import matplotlib.pyplot as plt \n",
    "from citipy import citipy\n",
    "from config import weather_api_key\n",
    "from datetime import datetime"
   ]
  },
  {
   "cell_type": "code",
   "execution_count": 3,
   "metadata": {
    "tags": []
   },
   "outputs": [],
   "source": [
    "lats = np.random.uniform(low=-90.000, high=90.000, size=2000)\n",
    "lngs = np.random.uniform(low=-180.000, high=180.000, size=2000)\n",
    "lat_lngs = zip(lats, lngs)\n",
    "coordinates = list(lat_lngs)\n"
   ]
  },
  {
   "cell_type": "code",
   "execution_count": 4,
   "metadata": {},
   "outputs": [
    {
     "output_type": "execute_result",
     "data": {
      "text/plain": [
       "760"
      ]
     },
     "metadata": {},
     "execution_count": 4
    }
   ],
   "source": [
    "# Create a list for holding the cities.\n",
    "cities = []\n",
    "# Identify the nearest city for each latitude and longitude combination.\n",
    "for coordinate in coordinates:\n",
    "    city = citipy.nearest_city(coordinate[0], coordinate[1]).city_name\n",
    "\n",
    "    # If the city is unique, then we will add it to the cities list.\n",
    "    if city not in cities:\n",
    "        cities.append(city)\n",
    "# Print the city count to confirm sufficient count.\n",
    "len(cities)"
   ]
  },
  {
   "cell_type": "code",
   "execution_count": 8,
   "metadata": {},
   "outputs": [
    {
     "output_type": "execute_result",
     "data": {
      "text/plain": [
       "'2021-06-06 18:17:28'"
      ]
     },
     "metadata": {},
     "execution_count": 8
    }
   ],
   "source": [
    "# Import the datetime module from the datetime library.\n",
    "from datetime import datetime\n",
    "# Get the date from the JSON file.\n",
    "date = boston_data[\"dt\"]\n",
    "# Convert the UTC date to a date format with year, month, day, hours, minutes, and seconds.\n",
    "datetime.utcfromtimestamp(date)\n",
    "datetime.utcfromtimestamp(date).strftime('%Y-%m-%d %H:%M:%S')"
   ]
  },
  {
   "source": [
    "city_data = {\"City\": [] , \"Lat\": [] , \"Lng\": [] , \"Max Temp\": [] , \"Humidity\": [] , \"Cloudiness\": [] , \"Wind Speed\": [] , \"Country\": [] , \"Date\": []}\n",
    "\n",
    "for i in range(len(cities)):\n",
    "    # Create endpoint URL with each city.\n",
    "    city_name = cities[i]\n",
    "    url = f'https://api.openweathermap.org/data/2.5/weather?q={city_name}&appid={weather_api_key}'\n",
    "    time.sleep(1.25)\n",
    "    try: \n",
    "        city_weather = requests.get(url).json()\n",
    "        # Parse out the needed data.\n",
    "        name = city_weather[\"name\"]\n",
    "        city_data[\"City\"].append(name)\n",
    "\n",
    "        city_lat = city_weather[\"coord\"][\"lat\"]\n",
    "        city_data[\"Lat\"].append(city_lat)\n",
    "\n",
    "        city_lng = city_weather[\"coord\"][\"lon\"]\n",
    "        city_data[\"Lng\"].append(city_lng)\n",
    "\n",
    "        city_max_temp_kel = city_weather[\"main\"][\"temp_max\"]\n",
    "        city_max_temp = city_max_temp_kel - 273.15\n",
    "        city_data[\"Max Temp\"].append(city_max_temp)\n",
    "\n",
    "        city_humidity = city_weather[\"main\"][\"humidity\"]\n",
    "        city_data[\"Humidity\"].append(city_humidity)\n",
    "\n",
    "        city_clouds = city_weather[\"clouds\"][\"all\"]\n",
    "        city_data[\"Cloudiness\"].append(city_clouds)\n",
    "\n",
    "        city_wind = city_weather[\"wind\"][\"speed\"]\n",
    "        city_data[\"Wind Speed\"].append(city_wind)\n",
    "\n",
    "        city_country = city_weather[\"sys\"][\"country\"]\n",
    "        city_data[\"Country\"].append(city_country)\n",
    "\n",
    "            # Convert the date to ISO standard.\n",
    "        city_date = datetime.utcfromtimestamp(city_weather[\"dt\"]).strftime('%Y-%m-%d %H:%M:%S')\n",
    "        city_data[\"Date\"].append(city_date)\n",
    "    except:\n",
    "        print(f\"City '{city_name}' NOT found on OpenWeatherAPI cloud.\")\n",
    "        pass\n",
    "\n",
    "city_data_df = pd.DataFrame(city_data)\n",
    "city_data_df.head()\n",
    "\n"
   ],
   "cell_type": "code",
   "metadata": {
    "tags": []
   },
   "execution_count": 5,
   "outputs": [
    {
     "output_type": "stream",
     "name": "stdout",
     "text": [
      "City 'barentsburg' NOT found on OpenWeatherAPI cloud.\n",
      "City 'marcona' NOT found on OpenWeatherAPI cloud.\n",
      "City 'taolanaro' NOT found on OpenWeatherAPI cloud.\n",
      "City 'sorvag' NOT found on OpenWeatherAPI cloud.\n",
      "City 'tumannyy' NOT found on OpenWeatherAPI cloud.\n",
      "City 'samalaeulu' NOT found on OpenWeatherAPI cloud.\n",
      "City 'solsvik' NOT found on OpenWeatherAPI cloud.\n",
      "City 'sentyabrskiy' NOT found on OpenWeatherAPI cloud.\n",
      "City 'coalcoman' NOT found on OpenWeatherAPI cloud.\n",
      "City 'ipeti' NOT found on OpenWeatherAPI cloud.\n",
      "City 'amderma' NOT found on OpenWeatherAPI cloud.\n",
      "City 'grand river south east' NOT found on OpenWeatherAPI cloud.\n",
      "City 'tarudant' NOT found on OpenWeatherAPI cloud.\n",
      "City 'illoqqortoormiut' NOT found on OpenWeatherAPI cloud.\n",
      "City 'buariki' NOT found on OpenWeatherAPI cloud.\n",
      "City 'tsihombe' NOT found on OpenWeatherAPI cloud.\n",
      "City 'ebano' NOT found on OpenWeatherAPI cloud.\n",
      "City 'tubruq' NOT found on OpenWeatherAPI cloud.\n",
      "City 'haibowan' NOT found on OpenWeatherAPI cloud.\n",
      "City 'palabuhanratu' NOT found on OpenWeatherAPI cloud.\n",
      "City 'louisbourg' NOT found on OpenWeatherAPI cloud.\n",
      "City 'samusu' NOT found on OpenWeatherAPI cloud.\n",
      "City 'mys shmidta' NOT found on OpenWeatherAPI cloud.\n",
      "City 'abiy adi' NOT found on OpenWeatherAPI cloud.\n",
      "City 'vaitupu' NOT found on OpenWeatherAPI cloud.\n",
      "City 'rawannawi' NOT found on OpenWeatherAPI cloud.\n",
      "City 'rolim de moura' NOT found on OpenWeatherAPI cloud.\n",
      "City 'nizhneyansk' NOT found on OpenWeatherAPI cloud.\n",
      "City 'itahari' NOT found on OpenWeatherAPI cloud.\n",
      "City 'attawapiskat' NOT found on OpenWeatherAPI cloud.\n",
      "City 'longlac' NOT found on OpenWeatherAPI cloud.\n",
      "City 'belushya guba' NOT found on OpenWeatherAPI cloud.\n",
      "City 'tasbuget' NOT found on OpenWeatherAPI cloud.\n",
      "City 'halalo' NOT found on OpenWeatherAPI cloud.\n",
      "City 'toliary' NOT found on OpenWeatherAPI cloud.\n",
      "City 'mergui' NOT found on OpenWeatherAPI cloud.\n",
      "City 'sinkat' NOT found on OpenWeatherAPI cloud.\n",
      "City 'kollumerland' NOT found on OpenWeatherAPI cloud.\n",
      "City 'rungata' NOT found on OpenWeatherAPI cloud.\n",
      "City 'yirol' NOT found on OpenWeatherAPI cloud.\n",
      "City 'mizpe ramon' NOT found on OpenWeatherAPI cloud.\n",
      "City 'lolua' NOT found on OpenWeatherAPI cloud.\n",
      "City 'doctor pedro p. pena' NOT found on OpenWeatherAPI cloud.\n",
      "City 'karaul' NOT found on OpenWeatherAPI cloud.\n",
      "City 'karkaralinsk' NOT found on OpenWeatherAPI cloud.\n",
      "City 'nguiu' NOT found on OpenWeatherAPI cloud.\n",
      "City 'mogochin' NOT found on OpenWeatherAPI cloud.\n",
      "City 'tawzar' NOT found on OpenWeatherAPI cloud.\n",
      "City 'kapustin yar-1' NOT found on OpenWeatherAPI cloud.\n",
      "City 'phan rang' NOT found on OpenWeatherAPI cloud.\n",
      "City 'saryshagan' NOT found on OpenWeatherAPI cloud.\n",
      "City 'gangotri' NOT found on OpenWeatherAPI cloud.\n",
      "City 'chagda' NOT found on OpenWeatherAPI cloud.\n",
      "City 'kamenskoye' NOT found on OpenWeatherAPI cloud.\n",
      "City 'zlatoustovsk' NOT found on OpenWeatherAPI cloud.\n",
      "City 'talawdi' NOT found on OpenWeatherAPI cloud.\n",
      "City 'grande-riviere' NOT found on OpenWeatherAPI cloud.\n",
      "City 'warqla' NOT found on OpenWeatherAPI cloud.\n",
      "City 'saleaula' NOT found on OpenWeatherAPI cloud.\n",
      "City 'nam tha' NOT found on OpenWeatherAPI cloud.\n",
      "City 'umzimvubu' NOT found on OpenWeatherAPI cloud.\n",
      "City 'sataua' NOT found on OpenWeatherAPI cloud.\n",
      "City 'tanshui' NOT found on OpenWeatherAPI cloud.\n",
      "City 'santa eulalia del rio' NOT found on OpenWeatherAPI cloud.\n",
      "City 'macaboboni' NOT found on OpenWeatherAPI cloud.\n"
     ]
    },
    {
     "output_type": "execute_result",
     "data": {
      "text/plain": [
       "              City      Lat       Lng  Max Temp  Humidity  Cloudiness  \\\n",
       "0           Laguna  38.4210 -121.4238     35.25        28           1   \n",
       "1           Hobart -42.8794  147.3294     13.48        77          75   \n",
       "2          Peleduy  59.6289  112.7406      8.95        66          45   \n",
       "3  Bambous Virieux -20.3428   57.7575     24.14        78          40   \n",
       "4    Novo Aripuanã  -5.1206  -60.3797     26.12        78          97   \n",
       "\n",
       "   Wind Speed Country                 Date  \n",
       "0        2.68      US  2021-06-06 22:34:27  \n",
       "1        2.68      AU  2021-06-06 22:34:07  \n",
       "2        3.47      RU  2021-06-06 22:34:55  \n",
       "3        6.45      MU  2021-06-06 22:34:57  \n",
       "4        0.59      BR  2021-06-06 22:34:59  "
      ],
      "text/html": "<div>\n<style scoped>\n    .dataframe tbody tr th:only-of-type {\n        vertical-align: middle;\n    }\n\n    .dataframe tbody tr th {\n        vertical-align: top;\n    }\n\n    .dataframe thead th {\n        text-align: right;\n    }\n</style>\n<table border=\"1\" class=\"dataframe\">\n  <thead>\n    <tr style=\"text-align: right;\">\n      <th></th>\n      <th>City</th>\n      <th>Lat</th>\n      <th>Lng</th>\n      <th>Max Temp</th>\n      <th>Humidity</th>\n      <th>Cloudiness</th>\n      <th>Wind Speed</th>\n      <th>Country</th>\n      <th>Date</th>\n    </tr>\n  </thead>\n  <tbody>\n    <tr>\n      <th>0</th>\n      <td>Laguna</td>\n      <td>38.4210</td>\n      <td>-121.4238</td>\n      <td>35.25</td>\n      <td>28</td>\n      <td>1</td>\n      <td>2.68</td>\n      <td>US</td>\n      <td>2021-06-06 22:34:27</td>\n    </tr>\n    <tr>\n      <th>1</th>\n      <td>Hobart</td>\n      <td>-42.8794</td>\n      <td>147.3294</td>\n      <td>13.48</td>\n      <td>77</td>\n      <td>75</td>\n      <td>2.68</td>\n      <td>AU</td>\n      <td>2021-06-06 22:34:07</td>\n    </tr>\n    <tr>\n      <th>2</th>\n      <td>Peleduy</td>\n      <td>59.6289</td>\n      <td>112.7406</td>\n      <td>8.95</td>\n      <td>66</td>\n      <td>45</td>\n      <td>3.47</td>\n      <td>RU</td>\n      <td>2021-06-06 22:34:55</td>\n    </tr>\n    <tr>\n      <th>3</th>\n      <td>Bambous Virieux</td>\n      <td>-20.3428</td>\n      <td>57.7575</td>\n      <td>24.14</td>\n      <td>78</td>\n      <td>40</td>\n      <td>6.45</td>\n      <td>MU</td>\n      <td>2021-06-06 22:34:57</td>\n    </tr>\n    <tr>\n      <th>4</th>\n      <td>Novo Aripuanã</td>\n      <td>-5.1206</td>\n      <td>-60.3797</td>\n      <td>26.12</td>\n      <td>78</td>\n      <td>97</td>\n      <td>0.59</td>\n      <td>BR</td>\n      <td>2021-06-06 22:34:59</td>\n    </tr>\n  </tbody>\n</table>\n</div>"
     },
     "metadata": {},
     "execution_count": 5
    }
   ]
  },
  {
   "cell_type": "code",
   "execution_count": 6,
   "metadata": {},
   "outputs": [],
   "source": [
    "# Create the output file (CSV).\n",
    "output_data_file = \"weather_data/WeatherPy_database.csv\"\n",
    "# Export the City_Data into a CSV.\n",
    "city_data_df.to_csv(output_data_file, index_label=\"City_ID\")"
   ]
  }
 ]
}