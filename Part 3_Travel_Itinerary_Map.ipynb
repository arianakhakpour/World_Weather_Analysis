{
 "cells": [
  {
   "cell_type": "markdown",
   "metadata": {},
   "source": [
    "## Deliverable 3. Create a Travel Itinerary Map."
   ]
  },
  {
   "cell_type": "code",
   "execution_count": 1,
   "metadata": {},
   "outputs": [],
   "source": [
    "# Dependencies and Setup\n",
    "import pandas as pd\n",
    "import requests\n",
    "import gmaps\n",
    "import numpy as np\n",
    "# Import API key\n",
    "from config import g_key\n",
    "\n",
    "# Configure gmaps\n",
    "gmaps.configure(api_key=g_key)"
   ]
  },
  {
   "cell_type": "code",
   "execution_count": 2,
   "metadata": {},
   "outputs": [
    {
     "output_type": "execute_result",
     "data": {
      "text/plain": [
       "   City_ID             City Country  Max Temp      Lat       Lng  \\\n",
       "0        3  Bambous Virieux      MU     24.14 -20.3428   57.7575   \n",
       "1        4    Novo Aripuanã      BR     26.12  -5.1206  -60.3797   \n",
       "2        7        Jamestown      US     28.62  42.0970  -79.2353   \n",
       "3       19          Cayenne      GF     26.16   4.9333  -52.3333   \n",
       "4       24         Fukuechō      JP     21.18  32.6881  128.8419   \n",
       "\n",
       "                                Hotel Name  \n",
       "0                           Casa Tia Villa  \n",
       "1                           Hotel Ezequiel  \n",
       "2           Hampton Inn & Suites Jamestown  \n",
       "3                          Hôtel Le Dronmi  \n",
       "4  Goto Guesthouse Utojuku & SA Car Rental  "
      ],
      "text/html": "<div>\n<style scoped>\n    .dataframe tbody tr th:only-of-type {\n        vertical-align: middle;\n    }\n\n    .dataframe tbody tr th {\n        vertical-align: top;\n    }\n\n    .dataframe thead th {\n        text-align: right;\n    }\n</style>\n<table border=\"1\" class=\"dataframe\">\n  <thead>\n    <tr style=\"text-align: right;\">\n      <th></th>\n      <th>City_ID</th>\n      <th>City</th>\n      <th>Country</th>\n      <th>Max Temp</th>\n      <th>Lat</th>\n      <th>Lng</th>\n      <th>Hotel Name</th>\n    </tr>\n  </thead>\n  <tbody>\n    <tr>\n      <th>0</th>\n      <td>3</td>\n      <td>Bambous Virieux</td>\n      <td>MU</td>\n      <td>24.14</td>\n      <td>-20.3428</td>\n      <td>57.7575</td>\n      <td>Casa Tia Villa</td>\n    </tr>\n    <tr>\n      <th>1</th>\n      <td>4</td>\n      <td>Novo Aripuanã</td>\n      <td>BR</td>\n      <td>26.12</td>\n      <td>-5.1206</td>\n      <td>-60.3797</td>\n      <td>Hotel Ezequiel</td>\n    </tr>\n    <tr>\n      <th>2</th>\n      <td>7</td>\n      <td>Jamestown</td>\n      <td>US</td>\n      <td>28.62</td>\n      <td>42.0970</td>\n      <td>-79.2353</td>\n      <td>Hampton Inn &amp; Suites Jamestown</td>\n    </tr>\n    <tr>\n      <th>3</th>\n      <td>19</td>\n      <td>Cayenne</td>\n      <td>GF</td>\n      <td>26.16</td>\n      <td>4.9333</td>\n      <td>-52.3333</td>\n      <td>Hôtel Le Dronmi</td>\n    </tr>\n    <tr>\n      <th>4</th>\n      <td>24</td>\n      <td>Fukuechō</td>\n      <td>JP</td>\n      <td>21.18</td>\n      <td>32.6881</td>\n      <td>128.8419</td>\n      <td>Goto Guesthouse Utojuku &amp; SA Car Rental</td>\n    </tr>\n  </tbody>\n</table>\n</div>"
     },
     "metadata": {},
     "execution_count": 2
    }
   ],
   "source": [
    "# 1. Read the WeatherPy_vacation.csv into a DataFrame.\n",
    "vacation_df = pd.read_csv(\"vaccation_data/WeatherPy_vacation.csv\")\n",
    "vacation_df.head()"
   ]
  },
  {
   "cell_type": "code",
   "execution_count": 3,
   "metadata": {},
   "outputs": [],
   "source": [
    "# 2. Using the template add the city name, the country code, the weather description and maximum temperature for the city.\n",
    "info_box_template = \"\"\"\n",
    "<dl>\n",
    "<dt>Hotel Name</dt><dd>{Hotel Name}</dd>\n",
    "<dt>City</dt><dd>{City}</dd>\n",
    "<dt>Country</dt><dd>{Country}</dd>\n",
    "<dt>Max Temp</dt><dd>{Max Temp} °C</dd>\n",
    "</dl>\n",
    "\"\"\"\n",
    "\n",
    "# 3a. Get the data from each row and add it to the formatting template and store the data in a list.\n",
    "hotel_info = [info_box_template.format(**row) for index, row in vacation_df.iterrows()]\n",
    "\n",
    "# 3b. Get the latitude and longitude from each row and store in a new DataFrame.\n",
    "locations = vacation_df[[\"Lat\", \"Lng\"]]\n",
    "max_temp = vacation_df[\"Max Temp\"]"
   ]
  },
  {
   "cell_type": "code",
   "execution_count": 4,
   "metadata": {},
   "outputs": [
    {
     "output_type": "display_data",
     "data": {
      "text/plain": "Figure(layout=FigureLayout(height='420px'))",
      "application/vnd.jupyter.widget-view+json": {
       "version_major": 2,
       "version_minor": 0,
       "model_id": "f6e67e5669a9432b9996453ee682a36c"
      }
     },
     "metadata": {}
    }
   ],
   "source": [
    "# 4a. Add a marker layer for each city to the map.\n",
    "fig = gmaps.figure(center=(30.0, 31.0), zoom_level=1.5)\n",
    "heat_layer = gmaps.heatmap_layer(locations, weights=max_temp,dissipating=False,\n",
    "             max_intensity=300, point_radius=4)\n",
    "marker_layer = gmaps.marker_layer(locations, info_box_content=hotel_info)\n",
    "fig.add_layer(heat_layer)\n",
    "fig.add_layer(marker_layer)\n",
    "\n",
    "# 4b. Display the figure\n",
    "fig\n"
   ]
  },
  {
   "cell_type": "code",
   "execution_count": 5,
   "metadata": {},
   "outputs": [],
   "source": [
    "# From the map above pick 4 cities and create a vacation itinerary route to travel between the four cities. \n",
    "# 5. Create DataFrames for each city by filtering the 'vacation_df' using the loc method. \n",
    "# Hint: The starting and ending city should be the same city.\n",
    "\n",
    "vacation_start = vacation_df.loc[(vacation_df[\"City\"] == 'Jasper') & (vacation_df[\"Country\"] == 'US')]\n",
    "vacation_end = vacation_df.loc[(vacation_df[\"City\"] == 'Jasper') & (vacation_df[\"Country\"] == 'US')]\n",
    "vacation_stop1 = vacation_df.loc[(vacation_df[\"City\"] == 'Hamilton') & (vacation_df[\"Country\"] == 'US')]\n",
    "vacation_stop2 = vacation_df.loc[(vacation_df[\"City\"] == 'Marshall') & (vacation_df[\"Country\"] == 'US')] \n",
    "vacation_stop3 = vacation_df.loc[(vacation_df[\"City\"] == 'Estelle') & (vacation_df[\"Country\"] == 'US')] \n"
   ]
  },
  {
   "cell_type": "code",
   "execution_count": 6,
   "metadata": {},
   "outputs": [
    {
     "output_type": "stream",
     "name": "stdout",
     "text": [
      "_________________________________________________ \n***Vaccation starting/ending point coordinates: \n (37.2001, -94.3502) \n_________________________________________________  \n***Stop over coordinates: \n (39.1834, -84.5333) \n (34.3834, -86.3333) \n (29.8458, -90.1067)\n"
     ]
    }
   ],
   "source": [
    "# 6. Get the latitude-longitude pairs as tuples from each city DataFrame.\n",
    "vacation_start_lat = float(vacation_start['Lat'])\n",
    "vacation_start_lng = float(vacation_start['Lng'])\n",
    "vacation_start_cor = (vacation_start_lat , vacation_start_lng)\n",
    "\n",
    "vacation_end_lat = float(vacation_end['Lat'])\n",
    "vacation_end_lng = float(vacation_end['Lng'])\n",
    "vacation_end_cor = (vacation_end_lat , vacation_end_lng)\n",
    "\n",
    "vacation_stop1_lat = float(vacation_stop1['Lat'])\n",
    "vacation_stop1_lng = float(vacation_stop1['Lng'])\n",
    "vacation_stop1_cor = (vacation_stop1_lat , vacation_stop1_lng)\n",
    "\n",
    "vacation_stop2_lat = float(vacation_stop2['Lat'])\n",
    "vacation_stop2_lng = float(vacation_stop2['Lng'])\n",
    "vacation_stop2_cor = (vacation_stop2_lat , vacation_stop2_lng)\n",
    "\n",
    "vacation_stop3_lat = float(vacation_stop3['Lat'])\n",
    "vacation_stop3_lng = float(vacation_stop3['Lng'])\n",
    "vacation_stop3_cor = (vacation_stop3_lat , vacation_stop3_lng)\n",
    "\n",
    "print(f'_________________________________________________ \\n***Vaccation starting/ending point coordinates: \\n {vacation_start_cor} \\n_________________________________________________  \\n***Stop over coordinates: \\n {vacation_stop1_cor} \\n {vacation_stop2_cor} \\n {vacation_stop3_cor}')"
   ]
  },
  {
   "cell_type": "code",
   "execution_count": 7,
   "metadata": {
    "scrolled": true
   },
   "outputs": [
    {
     "output_type": "display_data",
     "data": {
      "text/plain": "Figure(layout=FigureLayout(height='420px'))",
      "application/vnd.jupyter.widget-view+json": {
       "version_major": 2,
       "version_minor": 0,
       "model_id": "7928637fdd9a4d3cb551bcb773bba052"
      }
     },
     "metadata": {}
    }
   ],
   "source": [
    "# 7. Create a direction layer map using the start and end latitude-longitude pairs,\n",
    "# and stop1, stop2, and stop3 as the waypoints. The travel_mode should be \"DRIVING\", \"BICYCLING\", or \"WALKING\".\n",
    "from config4 import dir_key\n",
    "\n",
    "fig_driving = gmaps.figure()\n",
    "driving_directions = gmaps.directions_layer(vacation_start_cor, vacation_end_cor, waypoints= [vacation_stop1_cor, vacation_stop2_cor, vacation_stop3_cor] , travel_mode= 'DRIVING')\n",
    "\n",
    "fig_driving.add_layer(driving_directions)\n",
    "fig_driving\n"
   ]
  },
  {
   "cell_type": "code",
   "execution_count": 8,
   "metadata": {},
   "outputs": [
    {
     "output_type": "execute_result",
     "data": {
      "text/plain": [
       "   City_ID      City Country  Max Temp      Lat      Lng  \\\n",
       "0      443    Jasper      US     26.92  37.2001 -94.3502   \n",
       "1      443    Jasper      US     26.92  37.2001 -94.3502   \n",
       "2      366  Hamilton      US     28.97  39.1834 -84.5333   \n",
       "3      409  Marshall      US     23.90  34.3834 -86.3333   \n",
       "4      635   Estelle      US     27.77  29.8458 -90.1067   \n",
       "\n",
       "                  Hotel Name  \n",
       "0          Guest House Motel  \n",
       "1          Guest House Motel  \n",
       "2  Six Acres Bed & Breakfast  \n",
       "3       Riverview Campground  \n",
       "4                       Ohio  "
      ],
      "text/html": "<div>\n<style scoped>\n    .dataframe tbody tr th:only-of-type {\n        vertical-align: middle;\n    }\n\n    .dataframe tbody tr th {\n        vertical-align: top;\n    }\n\n    .dataframe thead th {\n        text-align: right;\n    }\n</style>\n<table border=\"1\" class=\"dataframe\">\n  <thead>\n    <tr style=\"text-align: right;\">\n      <th></th>\n      <th>City_ID</th>\n      <th>City</th>\n      <th>Country</th>\n      <th>Max Temp</th>\n      <th>Lat</th>\n      <th>Lng</th>\n      <th>Hotel Name</th>\n    </tr>\n  </thead>\n  <tbody>\n    <tr>\n      <th>0</th>\n      <td>443</td>\n      <td>Jasper</td>\n      <td>US</td>\n      <td>26.92</td>\n      <td>37.2001</td>\n      <td>-94.3502</td>\n      <td>Guest House Motel</td>\n    </tr>\n    <tr>\n      <th>1</th>\n      <td>443</td>\n      <td>Jasper</td>\n      <td>US</td>\n      <td>26.92</td>\n      <td>37.2001</td>\n      <td>-94.3502</td>\n      <td>Guest House Motel</td>\n    </tr>\n    <tr>\n      <th>2</th>\n      <td>366</td>\n      <td>Hamilton</td>\n      <td>US</td>\n      <td>28.97</td>\n      <td>39.1834</td>\n      <td>-84.5333</td>\n      <td>Six Acres Bed &amp; Breakfast</td>\n    </tr>\n    <tr>\n      <th>3</th>\n      <td>409</td>\n      <td>Marshall</td>\n      <td>US</td>\n      <td>23.90</td>\n      <td>34.3834</td>\n      <td>-86.3333</td>\n      <td>Riverview Campground</td>\n    </tr>\n    <tr>\n      <th>4</th>\n      <td>635</td>\n      <td>Estelle</td>\n      <td>US</td>\n      <td>27.77</td>\n      <td>29.8458</td>\n      <td>-90.1067</td>\n      <td>Ohio</td>\n    </tr>\n  </tbody>\n</table>\n</div>"
     },
     "metadata": {},
     "execution_count": 8
    }
   ],
   "source": [
    "# 8. To create a marker layer map between the four cities.\n",
    "#  Combine the four city DataFrames into one DataFrame using the concat() function.\n",
    "itinerary_df = pd.concat([vacation_start, vacation_end, vacation_stop1, vacation_stop2, vacation_stop3],ignore_index=True)\n",
    "itinerary_df"
   ]
  },
  {
   "cell_type": "code",
   "execution_count": 9,
   "metadata": {},
   "outputs": [
    {
     "output_type": "display_data",
     "data": {
      "text/plain": "Figure(layout=FigureLayout(height='420px'))",
      "application/vnd.jupyter.widget-view+json": {
       "version_major": 2,
       "version_minor": 0,
       "model_id": "7928637fdd9a4d3cb551bcb773bba052"
      }
     },
     "metadata": {}
    }
   ],
   "source": [
    "# 9 Using the template add city name, the country code, the weather description and maximum temperature for the city. \n",
    "info_box_template = \"\"\"\n",
    "<dl>\n",
    "<dt>Hotel Name</dt><dd>{Hotel Name}</dd>\n",
    "<dt>City</dt><dd>{City}</dd>\n",
    "<dt>Country</dt><dd>{Country}</dd>\n",
    "<dt>Max Temp</dt><dd>{Max Temp} °C</dd>\n",
    "</dl>\n",
    "\"\"\"\n",
    "\n",
    "# 10a Get the data from each row and add it to the formatting template and store the data in a list.\n",
    "hotel_info = [info_box_template.format(**row) for index, row in itinerary_df.iterrows()]\n",
    "\n",
    "# 10b. Get the latitude and longitude from each row and store in a new DataFrame.\n",
    "locations = itinerary_df[[\"Lat\", \"Lng\"]]\n",
    "max_temp = itinerary_df[\"Max Temp\"]\n",
    "heat_layer = gmaps.heatmap_layer(locations, weights=max_temp,dissipating=False,\n",
    "             max_intensity=300, point_radius=4)\n",
    "#add a marker layer\n",
    "marker_layer = gmaps.marker_layer(locations, info_box_content=hotel_info)\n",
    "fig_driving.add_layer(heat_layer)\n",
    "fig_driving.add_layer(marker_layer)\n",
    "fig_driving"
   ]
  },
  {
   "cell_type": "code",
   "execution_count": null,
   "metadata": {},
   "outputs": [],
   "source": []
  }
 ],
 "metadata": {
  "kernelspec": {
   "name": "python370jvsc74a57bd05572c7b15414d34e15d04c80987db17fef1cb2d73338f68ee8a8228bc15fcb96",
   "display_name": "Python 3.7.0 64-bit ('base': conda)"
  },
  "language_info": {
   "codemirror_mode": {
    "name": "ipython",
    "version": 3
   },
   "file_extension": ".py",
   "mimetype": "text/x-python",
   "name": "python",
   "nbconvert_exporter": "python",
   "pygments_lexer": "ipython3",
   "version": "3.7.0"
  },
  "latex_envs": {
   "LaTeX_envs_menu_present": true,
   "autoclose": false,
   "autocomplete": true,
   "bibliofile": "biblio.bib",
   "cite_by": "apalike",
   "current_citInitial": 1,
   "eqLabelWithNumbers": true,
   "eqNumInitial": 1,
   "hotkeys": {
    "equation": "Ctrl-E",
    "itemize": "Ctrl-I"
   },
   "labels_anchors": false,
   "latex_user_defs": false,
   "report_style_numbering": false,
   "user_envs_cfg": false
  }
 },
 "nbformat": 4,
 "nbformat_minor": 2
}