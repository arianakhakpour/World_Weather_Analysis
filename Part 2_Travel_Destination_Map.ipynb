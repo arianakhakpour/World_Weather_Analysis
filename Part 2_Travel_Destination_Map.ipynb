{
 "cells": [
  {
   "cell_type": "markdown",
   "metadata": {},
   "source": [
    "## Deliverable 2. Create a Customer Travel Destinations Map."
   ]
  },
  {
   "cell_type": "code",
   "execution_count": 29,
   "metadata": {},
   "outputs": [],
   "source": [
    "# Dependencies and Setup\n",
    "import pandas as pd\n",
    "import requests\n",
    "import gmaps\n",
    "import numpy as np\n",
    "import matplotlib.pyplot as plt\n",
    "# Import API key\n",
    "from config import g_key\n",
    "\n",
    "# Configure gmaps API key\n",
    "gmaps.configure(api_key=g_key)"
   ]
  },
  {
   "cell_type": "code",
   "execution_count": 2,
   "metadata": {},
   "outputs": [
    {
     "output_type": "execute_result",
     "data": {
      "text/plain": [
       "   City_ID             City      Lat       Lng  Max Temp  Humidity  \\\n",
       "0        0           Laguna  38.4210 -121.4238     35.25        28   \n",
       "1        1           Hobart -42.8794  147.3294     13.48        77   \n",
       "2        2          Peleduy  59.6289  112.7406      8.95        66   \n",
       "3        3  Bambous Virieux -20.3428   57.7575     24.14        78   \n",
       "4        4    Novo Aripuanã  -5.1206  -60.3797     26.12        78   \n",
       "\n",
       "   Cloudiness  Wind Speed Country                 Date  \n",
       "0           1        2.68      US  2021-06-06 22:34:27  \n",
       "1          75        2.68      AU  2021-06-06 22:34:07  \n",
       "2          45        3.47      RU  2021-06-06 22:34:55  \n",
       "3          40        6.45      MU  2021-06-06 22:34:57  \n",
       "4          97        0.59      BR  2021-06-06 22:34:59  "
      ],
      "text/html": "<div>\n<style scoped>\n    .dataframe tbody tr th:only-of-type {\n        vertical-align: middle;\n    }\n\n    .dataframe tbody tr th {\n        vertical-align: top;\n    }\n\n    .dataframe thead th {\n        text-align: right;\n    }\n</style>\n<table border=\"1\" class=\"dataframe\">\n  <thead>\n    <tr style=\"text-align: right;\">\n      <th></th>\n      <th>City_ID</th>\n      <th>City</th>\n      <th>Lat</th>\n      <th>Lng</th>\n      <th>Max Temp</th>\n      <th>Humidity</th>\n      <th>Cloudiness</th>\n      <th>Wind Speed</th>\n      <th>Country</th>\n      <th>Date</th>\n    </tr>\n  </thead>\n  <tbody>\n    <tr>\n      <th>0</th>\n      <td>0</td>\n      <td>Laguna</td>\n      <td>38.4210</td>\n      <td>-121.4238</td>\n      <td>35.25</td>\n      <td>28</td>\n      <td>1</td>\n      <td>2.68</td>\n      <td>US</td>\n      <td>2021-06-06 22:34:27</td>\n    </tr>\n    <tr>\n      <th>1</th>\n      <td>1</td>\n      <td>Hobart</td>\n      <td>-42.8794</td>\n      <td>147.3294</td>\n      <td>13.48</td>\n      <td>77</td>\n      <td>75</td>\n      <td>2.68</td>\n      <td>AU</td>\n      <td>2021-06-06 22:34:07</td>\n    </tr>\n    <tr>\n      <th>2</th>\n      <td>2</td>\n      <td>Peleduy</td>\n      <td>59.6289</td>\n      <td>112.7406</td>\n      <td>8.95</td>\n      <td>66</td>\n      <td>45</td>\n      <td>3.47</td>\n      <td>RU</td>\n      <td>2021-06-06 22:34:55</td>\n    </tr>\n    <tr>\n      <th>3</th>\n      <td>3</td>\n      <td>Bambous Virieux</td>\n      <td>-20.3428</td>\n      <td>57.7575</td>\n      <td>24.14</td>\n      <td>78</td>\n      <td>40</td>\n      <td>6.45</td>\n      <td>MU</td>\n      <td>2021-06-06 22:34:57</td>\n    </tr>\n    <tr>\n      <th>4</th>\n      <td>4</td>\n      <td>Novo Aripuanã</td>\n      <td>-5.1206</td>\n      <td>-60.3797</td>\n      <td>26.12</td>\n      <td>78</td>\n      <td>97</td>\n      <td>0.59</td>\n      <td>BR</td>\n      <td>2021-06-06 22:34:59</td>\n    </tr>\n  </tbody>\n</table>\n</div>"
     },
     "metadata": {},
     "execution_count": 2
    }
   ],
   "source": [
    "# 1. Import the WeatherPy_database.csv file. \n",
    "city_data_df = pd.read_csv(\"weather_data/WeatherPy_database.csv\")\n",
    "city_data_df.head()"
   ]
  },
  {
   "cell_type": "code",
   "execution_count": 7,
   "metadata": {},
   "outputs": [
    {
     "output_type": "stream",
     "name": "stdout",
     "text": [
      "Enter the maximum preffered temperature for your travel destination:\n",
      "Enter the minimum preffered temperature for your travel destination:\n"
     ]
    }
   ],
   "source": [
    "# 2. Prompt the user to enter minimum and maximum temperature criteria \n",
    "print(\"Enter the maximum preffered temperature for your travel destination:\")\n",
    "max_t = input()\n",
    "\n",
    "print(\"Enter the minimum preffered temperature for your travel destination:\")\n",
    "min_t = input()\n",
    "\n"
   ]
  },
  {
   "cell_type": "code",
   "execution_count": 3,
   "metadata": {},
   "outputs": [],
   "source": [
    "max_t = 32\n",
    "min_t = 20"
   ]
  },
  {
   "cell_type": "code",
   "execution_count": 4,
   "metadata": {},
   "outputs": [
    {
     "output_type": "execute_result",
     "data": {
      "text/plain": [
       "    City_ID             City      Lat       Lng  Max Temp  Humidity  \\\n",
       "3         3  Bambous Virieux -20.3428   57.7575     24.14        78   \n",
       "4         4    Novo Aripuanã  -5.1206  -60.3797     26.12        78   \n",
       "7         7        Jamestown  42.0970  -79.2353     28.62        50   \n",
       "19       19          Cayenne   4.9333  -52.3333     26.16        86   \n",
       "24       24         Fukuechō  32.6881  128.8419     21.18        77   \n",
       "28       28           Sittwe  20.1500   92.9000     28.57        83   \n",
       "30       30       Srīvardhan  18.0333   73.0167     27.80        76   \n",
       "34       34            Alofi -19.0595 -169.9187     26.94        61   \n",
       "36       36            Vaini -21.2000 -175.2000     25.09        78   \n",
       "39       39       Butaritari   3.0707  172.7902     28.10        72   \n",
       "\n",
       "    Cloudiness  Wind Speed Country                 Date  \n",
       "3           40        6.45      MU  2021-06-06 22:34:57  \n",
       "4           97        0.59      BR  2021-06-06 22:34:59  \n",
       "7            1        3.09      US  2021-06-06 22:34:15  \n",
       "19           0        2.45      GF  2021-06-06 22:35:28  \n",
       "24         100        2.82      JP  2021-06-06 22:35:37  \n",
       "28         100        3.00      MM  2021-06-06 22:35:45  \n",
       "30          37        2.35      IN  2021-06-06 22:35:48  \n",
       "34          54        3.60      NU  2021-06-06 22:35:55  \n",
       "36          75        6.17      TO  2021-06-06 22:34:02  \n",
       "39          12        3.79      KI  2021-06-06 22:36:08  "
      ],
      "text/html": "<div>\n<style scoped>\n    .dataframe tbody tr th:only-of-type {\n        vertical-align: middle;\n    }\n\n    .dataframe tbody tr th {\n        vertical-align: top;\n    }\n\n    .dataframe thead th {\n        text-align: right;\n    }\n</style>\n<table border=\"1\" class=\"dataframe\">\n  <thead>\n    <tr style=\"text-align: right;\">\n      <th></th>\n      <th>City_ID</th>\n      <th>City</th>\n      <th>Lat</th>\n      <th>Lng</th>\n      <th>Max Temp</th>\n      <th>Humidity</th>\n      <th>Cloudiness</th>\n      <th>Wind Speed</th>\n      <th>Country</th>\n      <th>Date</th>\n    </tr>\n  </thead>\n  <tbody>\n    <tr>\n      <th>3</th>\n      <td>3</td>\n      <td>Bambous Virieux</td>\n      <td>-20.3428</td>\n      <td>57.7575</td>\n      <td>24.14</td>\n      <td>78</td>\n      <td>40</td>\n      <td>6.45</td>\n      <td>MU</td>\n      <td>2021-06-06 22:34:57</td>\n    </tr>\n    <tr>\n      <th>4</th>\n      <td>4</td>\n      <td>Novo Aripuanã</td>\n      <td>-5.1206</td>\n      <td>-60.3797</td>\n      <td>26.12</td>\n      <td>78</td>\n      <td>97</td>\n      <td>0.59</td>\n      <td>BR</td>\n      <td>2021-06-06 22:34:59</td>\n    </tr>\n    <tr>\n      <th>7</th>\n      <td>7</td>\n      <td>Jamestown</td>\n      <td>42.0970</td>\n      <td>-79.2353</td>\n      <td>28.62</td>\n      <td>50</td>\n      <td>1</td>\n      <td>3.09</td>\n      <td>US</td>\n      <td>2021-06-06 22:34:15</td>\n    </tr>\n    <tr>\n      <th>19</th>\n      <td>19</td>\n      <td>Cayenne</td>\n      <td>4.9333</td>\n      <td>-52.3333</td>\n      <td>26.16</td>\n      <td>86</td>\n      <td>0</td>\n      <td>2.45</td>\n      <td>GF</td>\n      <td>2021-06-06 22:35:28</td>\n    </tr>\n    <tr>\n      <th>24</th>\n      <td>24</td>\n      <td>Fukuechō</td>\n      <td>32.6881</td>\n      <td>128.8419</td>\n      <td>21.18</td>\n      <td>77</td>\n      <td>100</td>\n      <td>2.82</td>\n      <td>JP</td>\n      <td>2021-06-06 22:35:37</td>\n    </tr>\n    <tr>\n      <th>28</th>\n      <td>28</td>\n      <td>Sittwe</td>\n      <td>20.1500</td>\n      <td>92.9000</td>\n      <td>28.57</td>\n      <td>83</td>\n      <td>100</td>\n      <td>3.00</td>\n      <td>MM</td>\n      <td>2021-06-06 22:35:45</td>\n    </tr>\n    <tr>\n      <th>30</th>\n      <td>30</td>\n      <td>Srīvardhan</td>\n      <td>18.0333</td>\n      <td>73.0167</td>\n      <td>27.80</td>\n      <td>76</td>\n      <td>37</td>\n      <td>2.35</td>\n      <td>IN</td>\n      <td>2021-06-06 22:35:48</td>\n    </tr>\n    <tr>\n      <th>34</th>\n      <td>34</td>\n      <td>Alofi</td>\n      <td>-19.0595</td>\n      <td>-169.9187</td>\n      <td>26.94</td>\n      <td>61</td>\n      <td>54</td>\n      <td>3.60</td>\n      <td>NU</td>\n      <td>2021-06-06 22:35:55</td>\n    </tr>\n    <tr>\n      <th>36</th>\n      <td>36</td>\n      <td>Vaini</td>\n      <td>-21.2000</td>\n      <td>-175.2000</td>\n      <td>25.09</td>\n      <td>78</td>\n      <td>75</td>\n      <td>6.17</td>\n      <td>TO</td>\n      <td>2021-06-06 22:34:02</td>\n    </tr>\n    <tr>\n      <th>39</th>\n      <td>39</td>\n      <td>Butaritari</td>\n      <td>3.0707</td>\n      <td>172.7902</td>\n      <td>28.10</td>\n      <td>72</td>\n      <td>12</td>\n      <td>3.79</td>\n      <td>KI</td>\n      <td>2021-06-06 22:36:08</td>\n    </tr>\n  </tbody>\n</table>\n</div>"
     },
     "metadata": {},
     "execution_count": 4
    }
   ],
   "source": [
    "# 3. Filter the city_data_df DataFrame using the input statements to create a new DataFrame using the loc method.\n",
    "preferred_cities_df = city_data_df.loc[(city_data_df[\"Max Temp\"] <= max_t) & \\\n",
    "                                       (city_data_df[\"Max Temp\"] >= min_t)]\n",
    "preferred_cities_df.head(10)"
   ]
  },
  {
   "cell_type": "code",
   "execution_count": 5,
   "metadata": {},
   "outputs": [
    {
     "output_type": "execute_result",
     "data": {
      "text/plain": [
       "[nan]"
      ]
     },
     "metadata": {},
     "execution_count": 5
    }
   ],
   "source": [
    "# 4a. Determine if there are any empty rows.\n",
    "[preferred_cities_df.iloc[i,j] for i,j in zip(*np.where(pd.isnull(preferred_cities_df)))]"
   ]
  },
  {
   "cell_type": "code",
   "execution_count": 6,
   "metadata": {},
   "outputs": [
    {
     "output_type": "execute_result",
     "data": {
      "text/plain": [
       "    City_ID             City      Lat       Lng  Max Temp  Humidity  \\\n",
       "3         3  Bambous Virieux -20.3428   57.7575     24.14        78   \n",
       "4         4    Novo Aripuanã  -5.1206  -60.3797     26.12        78   \n",
       "7         7        Jamestown  42.0970  -79.2353     28.62        50   \n",
       "19       19          Cayenne   4.9333  -52.3333     26.16        86   \n",
       "24       24         Fukuechō  32.6881  128.8419     21.18        77   \n",
       "\n",
       "    Cloudiness  Wind Speed Country                 Date  \n",
       "3           40        6.45      MU  2021-06-06 22:34:57  \n",
       "4           97        0.59      BR  2021-06-06 22:34:59  \n",
       "7            1        3.09      US  2021-06-06 22:34:15  \n",
       "19           0        2.45      GF  2021-06-06 22:35:28  \n",
       "24         100        2.82      JP  2021-06-06 22:35:37  "
      ],
      "text/html": "<div>\n<style scoped>\n    .dataframe tbody tr th:only-of-type {\n        vertical-align: middle;\n    }\n\n    .dataframe tbody tr th {\n        vertical-align: top;\n    }\n\n    .dataframe thead th {\n        text-align: right;\n    }\n</style>\n<table border=\"1\" class=\"dataframe\">\n  <thead>\n    <tr style=\"text-align: right;\">\n      <th></th>\n      <th>City_ID</th>\n      <th>City</th>\n      <th>Lat</th>\n      <th>Lng</th>\n      <th>Max Temp</th>\n      <th>Humidity</th>\n      <th>Cloudiness</th>\n      <th>Wind Speed</th>\n      <th>Country</th>\n      <th>Date</th>\n    </tr>\n  </thead>\n  <tbody>\n    <tr>\n      <th>3</th>\n      <td>3</td>\n      <td>Bambous Virieux</td>\n      <td>-20.3428</td>\n      <td>57.7575</td>\n      <td>24.14</td>\n      <td>78</td>\n      <td>40</td>\n      <td>6.45</td>\n      <td>MU</td>\n      <td>2021-06-06 22:34:57</td>\n    </tr>\n    <tr>\n      <th>4</th>\n      <td>4</td>\n      <td>Novo Aripuanã</td>\n      <td>-5.1206</td>\n      <td>-60.3797</td>\n      <td>26.12</td>\n      <td>78</td>\n      <td>97</td>\n      <td>0.59</td>\n      <td>BR</td>\n      <td>2021-06-06 22:34:59</td>\n    </tr>\n    <tr>\n      <th>7</th>\n      <td>7</td>\n      <td>Jamestown</td>\n      <td>42.0970</td>\n      <td>-79.2353</td>\n      <td>28.62</td>\n      <td>50</td>\n      <td>1</td>\n      <td>3.09</td>\n      <td>US</td>\n      <td>2021-06-06 22:34:15</td>\n    </tr>\n    <tr>\n      <th>19</th>\n      <td>19</td>\n      <td>Cayenne</td>\n      <td>4.9333</td>\n      <td>-52.3333</td>\n      <td>26.16</td>\n      <td>86</td>\n      <td>0</td>\n      <td>2.45</td>\n      <td>GF</td>\n      <td>2021-06-06 22:35:28</td>\n    </tr>\n    <tr>\n      <th>24</th>\n      <td>24</td>\n      <td>Fukuechō</td>\n      <td>32.6881</td>\n      <td>128.8419</td>\n      <td>21.18</td>\n      <td>77</td>\n      <td>100</td>\n      <td>2.82</td>\n      <td>JP</td>\n      <td>2021-06-06 22:35:37</td>\n    </tr>\n  </tbody>\n</table>\n</div>"
     },
     "metadata": {},
     "execution_count": 6
    }
   ],
   "source": [
    "# 4b. Drop any empty rows and create a new DataFrame that doesn’t have empty rows.\n",
    "preferred_cities_df = preferred_cities_df.dropna()\n",
    "preferred_cities_df.head()"
   ]
  },
  {
   "cell_type": "code",
   "execution_count": 10,
   "metadata": {},
   "outputs": [
    {
     "output_type": "execute_result",
     "data": {
      "text/plain": [
       "               City Country  Max Temp      Lat       Lng Hotel Name\n",
       "3   Bambous Virieux      MU     24.14 -20.3428   57.7575           \n",
       "4     Novo Aripuanã      BR     26.12  -5.1206  -60.3797           \n",
       "7         Jamestown      US     28.62  42.0970  -79.2353           \n",
       "19          Cayenne      GF     26.16   4.9333  -52.3333           \n",
       "24         Fukuechō      JP     21.18  32.6881  128.8419           "
      ],
      "text/html": "<div>\n<style scoped>\n    .dataframe tbody tr th:only-of-type {\n        vertical-align: middle;\n    }\n\n    .dataframe tbody tr th {\n        vertical-align: top;\n    }\n\n    .dataframe thead th {\n        text-align: right;\n    }\n</style>\n<table border=\"1\" class=\"dataframe\">\n  <thead>\n    <tr style=\"text-align: right;\">\n      <th></th>\n      <th>City</th>\n      <th>Country</th>\n      <th>Max Temp</th>\n      <th>Lat</th>\n      <th>Lng</th>\n      <th>Hotel Name</th>\n    </tr>\n  </thead>\n  <tbody>\n    <tr>\n      <th>3</th>\n      <td>Bambous Virieux</td>\n      <td>MU</td>\n      <td>24.14</td>\n      <td>-20.3428</td>\n      <td>57.7575</td>\n      <td></td>\n    </tr>\n    <tr>\n      <th>4</th>\n      <td>Novo Aripuanã</td>\n      <td>BR</td>\n      <td>26.12</td>\n      <td>-5.1206</td>\n      <td>-60.3797</td>\n      <td></td>\n    </tr>\n    <tr>\n      <th>7</th>\n      <td>Jamestown</td>\n      <td>US</td>\n      <td>28.62</td>\n      <td>42.0970</td>\n      <td>-79.2353</td>\n      <td></td>\n    </tr>\n    <tr>\n      <th>19</th>\n      <td>Cayenne</td>\n      <td>GF</td>\n      <td>26.16</td>\n      <td>4.9333</td>\n      <td>-52.3333</td>\n      <td></td>\n    </tr>\n    <tr>\n      <th>24</th>\n      <td>Fukuechō</td>\n      <td>JP</td>\n      <td>21.18</td>\n      <td>32.6881</td>\n      <td>128.8419</td>\n      <td></td>\n    </tr>\n  </tbody>\n</table>\n</div>"
     },
     "metadata": {},
     "execution_count": 10
    }
   ],
   "source": [
    "# 5a. Create DataFrame called hotel_df to store hotel names along with city, country, max temp, and coordinates.\n",
    "hotel_df = preferred_cities_df[[\"City\", \"Country\", \"Max Temp\", \"Lat\", \"Lng\"]].copy()\n",
    "\n",
    "# 5b. Create a new column \"Hotel Name\"\n",
    "hotel_df[\"Hotel Name\"] = \"\"\n",
    "hotel_df.head()"
   ]
  },
  {
   "cell_type": "code",
   "execution_count": 11,
   "metadata": {},
   "outputs": [
    {
     "output_type": "stream",
     "name": "stdout",
     "text": [
      "Hotel not found... skipping.\n",
      "Hotel not found... skipping.\n",
      "Hotel not found... skipping.\n",
      "Hotel not found... skipping.\n",
      "Hotel not found... skipping.\n",
      "Hotel not found... skipping.\n",
      "Hotel not found... skipping.\n",
      "Hotel not found... skipping.\n",
      "Hotel not found... skipping.\n",
      "Hotel not found... skipping.\n"
     ]
    },
    {
     "output_type": "execute_result",
     "data": {
      "text/plain": [
       "               City Country  Max Temp      Lat       Lng  \\\n",
       "3   Bambous Virieux      MU     24.14 -20.3428   57.7575   \n",
       "4     Novo Aripuanã      BR     26.12  -5.1206  -60.3797   \n",
       "7         Jamestown      US     28.62  42.0970  -79.2353   \n",
       "19          Cayenne      GF     26.16   4.9333  -52.3333   \n",
       "24         Fukuechō      JP     21.18  32.6881  128.8419   \n",
       "\n",
       "                                 Hotel Name  \n",
       "3                            Casa Tia Villa  \n",
       "4                            Hotel Ezequiel  \n",
       "7            Hampton Inn & Suites Jamestown  \n",
       "19                          Hôtel Le Dronmi  \n",
       "24  Goto Guesthouse Utojuku & SA Car Rental  "
      ],
      "text/html": "<div>\n<style scoped>\n    .dataframe tbody tr th:only-of-type {\n        vertical-align: middle;\n    }\n\n    .dataframe tbody tr th {\n        vertical-align: top;\n    }\n\n    .dataframe thead th {\n        text-align: right;\n    }\n</style>\n<table border=\"1\" class=\"dataframe\">\n  <thead>\n    <tr style=\"text-align: right;\">\n      <th></th>\n      <th>City</th>\n      <th>Country</th>\n      <th>Max Temp</th>\n      <th>Lat</th>\n      <th>Lng</th>\n      <th>Hotel Name</th>\n    </tr>\n  </thead>\n  <tbody>\n    <tr>\n      <th>3</th>\n      <td>Bambous Virieux</td>\n      <td>MU</td>\n      <td>24.14</td>\n      <td>-20.3428</td>\n      <td>57.7575</td>\n      <td>Casa Tia Villa</td>\n    </tr>\n    <tr>\n      <th>4</th>\n      <td>Novo Aripuanã</td>\n      <td>BR</td>\n      <td>26.12</td>\n      <td>-5.1206</td>\n      <td>-60.3797</td>\n      <td>Hotel Ezequiel</td>\n    </tr>\n    <tr>\n      <th>7</th>\n      <td>Jamestown</td>\n      <td>US</td>\n      <td>28.62</td>\n      <td>42.0970</td>\n      <td>-79.2353</td>\n      <td>Hampton Inn &amp; Suites Jamestown</td>\n    </tr>\n    <tr>\n      <th>19</th>\n      <td>Cayenne</td>\n      <td>GF</td>\n      <td>26.16</td>\n      <td>4.9333</td>\n      <td>-52.3333</td>\n      <td>Hôtel Le Dronmi</td>\n    </tr>\n    <tr>\n      <th>24</th>\n      <td>Fukuechō</td>\n      <td>JP</td>\n      <td>21.18</td>\n      <td>32.6881</td>\n      <td>128.8419</td>\n      <td>Goto Guesthouse Utojuku &amp; SA Car Rental</td>\n    </tr>\n  </tbody>\n</table>\n</div>"
     },
     "metadata": {},
     "execution_count": 11
    }
   ],
   "source": [
    "# 6a. Set parameters to search for hotels with 5000 meters.\n",
    "from config import p_key\n",
    "params = {\n",
    "    \"radius\": 5000,\n",
    "    \"types\": \"lodging\",\n",
    "    \"key\": p_key,\n",
    "    \"location\": ''}\n",
    "    \n",
    "# Iterate through the DataFrame.\n",
    "for index, row in hotel_df.iterrows():\n",
    "    # Get the latitude and longitude.\n",
    "    lat = row[\"Lat\"]\n",
    "    lng = row[\"Lng\"]\n",
    "\n",
    "    # Add the latitude and longitude to location key for the params dictionary.\n",
    "    params[\"location\"] = f\"{lat},{lng}\"\n",
    "\n",
    "    # Use the search term: \"lodging\" and our latitude and longitude.\n",
    "    base_url = \"https://maps.googleapis.com/maps/api/place/nearbysearch/json\"\n",
    "    # Make request and get the JSON data from the search.\n",
    "    hotels = requests.get(base_url, params=params).json()\n",
    "    # Grab the first hotel from the results and store the name.\n",
    "    # Grab the first hotel from the results and store the name.\n",
    "    try:\n",
    "        hotel_df.loc[index, \"Hotel Name\"] = hotels[\"results\"][0][\"name\"]\n",
    "    except (IndexError):\n",
    "        print(\"Hotel not found... skipping.\")\n",
    "\n",
    "hotel_df.head()\n",
    "\n",
    "        "
   ]
  },
  {
   "cell_type": "code",
   "execution_count": 18,
   "metadata": {},
   "outputs": [
    {
     "output_type": "execute_result",
     "data": {
      "text/plain": [
       "                      City Country  Max Temp      Lat       Lng  \\\n",
       "3          Bambous Virieux      MU     24.14 -20.3428   57.7575   \n",
       "4            Novo Aripuanã      BR     26.12  -5.1206  -60.3797   \n",
       "7                Jamestown      US     28.62  42.0970  -79.2353   \n",
       "19                 Cayenne      GF     26.16   4.9333  -52.3333   \n",
       "24                Fukuechō      JP     21.18  32.6881  128.8419   \n",
       "28                  Sittwe      MM     28.57  20.1500   92.9000   \n",
       "30              Srīvardhan      IN     27.80  18.0333   73.0167   \n",
       "34                   Alofi      NU     26.94 -19.0595 -169.9187   \n",
       "36                   Vaini      TO     25.09 -21.2000 -175.2000   \n",
       "39              Butaritari      KI     28.10   3.0707  172.7902   \n",
       "40                  Faanui      PF     27.21 -16.4833 -151.7500   \n",
       "41                     Vao      NC     21.17 -22.6667  167.4833   \n",
       "42                  Palāsa      IN     28.64  18.7667   84.4167   \n",
       "43                 Rikitea      PF     24.87 -23.1203 -134.9692   \n",
       "45               Cape Town      ZA     22.23 -33.9258   18.4232   \n",
       "46            Miguel Alves      BR     25.22  -4.1656  -42.8953   \n",
       "48                 Merrill      US     29.68  45.1805  -89.6835   \n",
       "51                    Hilo      US     26.85  19.7297 -155.0900   \n",
       "53               Fairbanks      US     21.19  64.8378 -147.7164   \n",
       "56                Waingapu      ID     25.28  -9.6567  120.2641   \n",
       "59                 Iquitos      PE     29.02  -3.7481  -73.2472   \n",
       "60                  Avarua      CK     24.03 -21.2078 -159.7750   \n",
       "61        Muroto-misakicho      JP     21.02  33.2833  134.1500   \n",
       "64                   Zemio      CF     20.12   5.0314   25.1361   \n",
       "66               Hithadhoo      MV     28.19  -0.6000   73.0833   \n",
       "72                  Ixtapa      MX     30.13  20.7000 -105.2000   \n",
       "73                Bengkulu      ID     23.10  -3.8004  102.2655   \n",
       "74                  Atuona      PF     26.77  -9.8000 -139.0333   \n",
       "76                  Touros      BR     24.50  -5.1989  -35.4608   \n",
       "77            Puerto Ayora      EC     26.98  -0.7393  -90.3518   \n",
       "..                     ...     ...       ...      ...       ...   \n",
       "635                Estelle      US     27.77  29.8458  -90.1067   \n",
       "639          Villa Bruzual      VE     22.22   9.3328  -69.1208   \n",
       "640                 Jobabo      CU     26.35  20.9692  -76.2994   \n",
       "642             San Felipe      VE     22.61  10.3399  -68.7425   \n",
       "645                 Padang      ID     24.22  -0.9492  100.3543   \n",
       "647             Manjeshwar      IN     26.53  12.7194   74.8861   \n",
       "651                Bereket      TM     22.66  39.2446   55.5154   \n",
       "652              Tecolutla      MX     30.02  20.4833  -97.0167   \n",
       "653                  Umluj      SA     28.02  25.0213   37.2685   \n",
       "655                Sechura      PE     22.67  -5.5569  -80.8222   \n",
       "656  La Santisima Trinidad      BO     24.99 -14.8333  -64.9000   \n",
       "658                Erenhot      CN     21.52  43.6475  111.9767   \n",
       "659              Bathsheba      BB     27.34  13.2167  -59.5167   \n",
       "671            Bandarbeyla      SO     26.04   9.4942   50.8122   \n",
       "672                Maumere      ID     25.79  -8.6199  122.2111   \n",
       "673               Mbandaka      CD     20.52   0.0487   18.2603   \n",
       "676               Kot Diji      PK     31.01  27.3427   68.7083   \n",
       "678                 Zinder      NE     30.42  13.8072    8.9881   \n",
       "679                  Pīpri      IN     26.18  19.8000   75.5333   \n",
       "680              Kisangani      CD     21.13   0.5167   25.2000   \n",
       "683             Senneterre      CA     31.12  48.3835  -77.2328   \n",
       "684                Wanning      CN     26.19  18.8003  110.3967   \n",
       "685                 Nurota      UZ     25.05  40.5614   65.6886   \n",
       "686       Puerto Escondido      MX     29.30  15.8500  -97.0667   \n",
       "688      São João da Barra      BR     23.52 -21.6403  -41.0511   \n",
       "689               Cabedelo      BR     23.37  -6.9811  -34.8339   \n",
       "690               Kamaishi      JP     20.53  39.2667  141.8833   \n",
       "691           Mastic Beach      US     30.02  40.7668  -72.8521   \n",
       "693                   Tura      IN     22.19  25.5198   90.2201   \n",
       "694                  Seydi      TM     29.88  39.4816   62.9137   \n",
       "\n",
       "                                         Hotel Name  \n",
       "3                                    Casa Tia Villa  \n",
       "4                                    Hotel Ezequiel  \n",
       "7                    Hampton Inn & Suites Jamestown  \n",
       "19                                  Hôtel Le Dronmi  \n",
       "24          Goto Guesthouse Utojuku & SA Car Rental  \n",
       "28                                     Hotel Memory  \n",
       "30                 Savli Resort/Hotel - Shrivardhan  \n",
       "34                                    Taloa Heights  \n",
       "36                              Keleti Beach Resort  \n",
       "39                               Isles Sunset Lodge  \n",
       "40               Bora-Bora Pearl Beach Resort & Spa  \n",
       "41                                  Hotel Kou-Bugny  \n",
       "42         Balaji tifen & meals veg & non veg hotel  \n",
       "43                                   Pension Maro'i  \n",
       "45                Southern Sun Waterfront Cape Town  \n",
       "46                       PAIN POUSADA E RESTAURANTE  \n",
       "48                                    Prairie Motel  \n",
       "51                              Hilo Hawaiian Hotel  \n",
       "53     Westmark Fairbanks Hotel & Conference Center  \n",
       "56                               Pondok Wisata Elim  \n",
       "59                    Casa Morey Hotel & Restaurant  \n",
       "60                                     Paradise Inn  \n",
       "61                                      Oota Ryokan  \n",
       "64                                      OCHA Office  \n",
       "66                                Scoop Guest House  \n",
       "72                          Hotel Plaza Providencia  \n",
       "73                             Grage Hotel Bengkulu  \n",
       "74                                      Villa Enata  \n",
       "76                                  INN NEW HORIZON  \n",
       "77                        Finch Bay Galapagos Hotel  \n",
       "..                                              ...  \n",
       "635                                            Ohio  \n",
       "639                               Edificio Guarente  \n",
       "640                           Motel De Aguas Claras  \n",
       "642                       Posada Llovizna Rodríguez  \n",
       "645                                  Mercure Padang  \n",
       "647                            Shenoy's food Corner  \n",
       "651                                   Railway motel  \n",
       "652                              Hotel Plaza Marsol  \n",
       "653                      Moon light Furnished Units  \n",
       "655                           Hospedaje Costa Bella  \n",
       "656                                    Hotel Piesta  \n",
       "658                    Erenhot Rurouni Youth Hostel  \n",
       "659                                  Atlantis Hotel  \n",
       "671                                     JABIR HOTEL  \n",
       "672                                    Sylvia Hotel  \n",
       "673                            Guest House Epervier  \n",
       "676  Heritage Park, Restaurant & Guesthouse Kotdiji  \n",
       "678                                  Hotel de Ville  \n",
       "679               Sukhana River nilu and rushi home  \n",
       "680                              Grand Ramela Hotel  \n",
       "683                                    Motel Senabi  \n",
       "684                                  Paradise Hotel  \n",
       "685               Guest House Ruslan Nurata & Tours  \n",
       "686                   Aldea del Bazar Hotel and Spa  \n",
       "688                         Pousada Porto De Canoas  \n",
       "689                                   Hotel Pigalle  \n",
       "690                        Hotel Route Inn Kamaishi  \n",
       "691            Brushwood House by Smith Point Beach  \n",
       "693                        Hotel RIKMAN Continental  \n",
       "694                                     Seydi oteli  \n",
       "\n",
       "[293 rows x 6 columns]"
      ],
      "text/html": "<div>\n<style scoped>\n    .dataframe tbody tr th:only-of-type {\n        vertical-align: middle;\n    }\n\n    .dataframe tbody tr th {\n        vertical-align: top;\n    }\n\n    .dataframe thead th {\n        text-align: right;\n    }\n</style>\n<table border=\"1\" class=\"dataframe\">\n  <thead>\n    <tr style=\"text-align: right;\">\n      <th></th>\n      <th>City</th>\n      <th>Country</th>\n      <th>Max Temp</th>\n      <th>Lat</th>\n      <th>Lng</th>\n      <th>Hotel Name</th>\n    </tr>\n  </thead>\n  <tbody>\n    <tr>\n      <th>3</th>\n      <td>Bambous Virieux</td>\n      <td>MU</td>\n      <td>24.14</td>\n      <td>-20.3428</td>\n      <td>57.7575</td>\n      <td>Casa Tia Villa</td>\n    </tr>\n    <tr>\n      <th>4</th>\n      <td>Novo Aripuanã</td>\n      <td>BR</td>\n      <td>26.12</td>\n      <td>-5.1206</td>\n      <td>-60.3797</td>\n      <td>Hotel Ezequiel</td>\n    </tr>\n    <tr>\n      <th>7</th>\n      <td>Jamestown</td>\n      <td>US</td>\n      <td>28.62</td>\n      <td>42.0970</td>\n      <td>-79.2353</td>\n      <td>Hampton Inn &amp; Suites Jamestown</td>\n    </tr>\n    <tr>\n      <th>19</th>\n      <td>Cayenne</td>\n      <td>GF</td>\n      <td>26.16</td>\n      <td>4.9333</td>\n      <td>-52.3333</td>\n      <td>Hôtel Le Dronmi</td>\n    </tr>\n    <tr>\n      <th>24</th>\n      <td>Fukuechō</td>\n      <td>JP</td>\n      <td>21.18</td>\n      <td>32.6881</td>\n      <td>128.8419</td>\n      <td>Goto Guesthouse Utojuku &amp; SA Car Rental</td>\n    </tr>\n    <tr>\n      <th>28</th>\n      <td>Sittwe</td>\n      <td>MM</td>\n      <td>28.57</td>\n      <td>20.1500</td>\n      <td>92.9000</td>\n      <td>Hotel Memory</td>\n    </tr>\n    <tr>\n      <th>30</th>\n      <td>Srīvardhan</td>\n      <td>IN</td>\n      <td>27.80</td>\n      <td>18.0333</td>\n      <td>73.0167</td>\n      <td>Savli Resort/Hotel - Shrivardhan</td>\n    </tr>\n    <tr>\n      <th>34</th>\n      <td>Alofi</td>\n      <td>NU</td>\n      <td>26.94</td>\n      <td>-19.0595</td>\n      <td>-169.9187</td>\n      <td>Taloa Heights</td>\n    </tr>\n    <tr>\n      <th>36</th>\n      <td>Vaini</td>\n      <td>TO</td>\n      <td>25.09</td>\n      <td>-21.2000</td>\n      <td>-175.2000</td>\n      <td>Keleti Beach Resort</td>\n    </tr>\n    <tr>\n      <th>39</th>\n      <td>Butaritari</td>\n      <td>KI</td>\n      <td>28.10</td>\n      <td>3.0707</td>\n      <td>172.7902</td>\n      <td>Isles Sunset Lodge</td>\n    </tr>\n    <tr>\n      <th>40</th>\n      <td>Faanui</td>\n      <td>PF</td>\n      <td>27.21</td>\n      <td>-16.4833</td>\n      <td>-151.7500</td>\n      <td>Bora-Bora Pearl Beach Resort &amp; Spa</td>\n    </tr>\n    <tr>\n      <th>41</th>\n      <td>Vao</td>\n      <td>NC</td>\n      <td>21.17</td>\n      <td>-22.6667</td>\n      <td>167.4833</td>\n      <td>Hotel Kou-Bugny</td>\n    </tr>\n    <tr>\n      <th>42</th>\n      <td>Palāsa</td>\n      <td>IN</td>\n      <td>28.64</td>\n      <td>18.7667</td>\n      <td>84.4167</td>\n      <td>Balaji tifen &amp; meals veg &amp; non veg hotel</td>\n    </tr>\n    <tr>\n      <th>43</th>\n      <td>Rikitea</td>\n      <td>PF</td>\n      <td>24.87</td>\n      <td>-23.1203</td>\n      <td>-134.9692</td>\n      <td>Pension Maro'i</td>\n    </tr>\n    <tr>\n      <th>45</th>\n      <td>Cape Town</td>\n      <td>ZA</td>\n      <td>22.23</td>\n      <td>-33.9258</td>\n      <td>18.4232</td>\n      <td>Southern Sun Waterfront Cape Town</td>\n    </tr>\n    <tr>\n      <th>46</th>\n      <td>Miguel Alves</td>\n      <td>BR</td>\n      <td>25.22</td>\n      <td>-4.1656</td>\n      <td>-42.8953</td>\n      <td>PAIN POUSADA E RESTAURANTE</td>\n    </tr>\n    <tr>\n      <th>48</th>\n      <td>Merrill</td>\n      <td>US</td>\n      <td>29.68</td>\n      <td>45.1805</td>\n      <td>-89.6835</td>\n      <td>Prairie Motel</td>\n    </tr>\n    <tr>\n      <th>51</th>\n      <td>Hilo</td>\n      <td>US</td>\n      <td>26.85</td>\n      <td>19.7297</td>\n      <td>-155.0900</td>\n      <td>Hilo Hawaiian Hotel</td>\n    </tr>\n    <tr>\n      <th>53</th>\n      <td>Fairbanks</td>\n      <td>US</td>\n      <td>21.19</td>\n      <td>64.8378</td>\n      <td>-147.7164</td>\n      <td>Westmark Fairbanks Hotel &amp; Conference Center</td>\n    </tr>\n    <tr>\n      <th>56</th>\n      <td>Waingapu</td>\n      <td>ID</td>\n      <td>25.28</td>\n      <td>-9.6567</td>\n      <td>120.2641</td>\n      <td>Pondok Wisata Elim</td>\n    </tr>\n    <tr>\n      <th>59</th>\n      <td>Iquitos</td>\n      <td>PE</td>\n      <td>29.02</td>\n      <td>-3.7481</td>\n      <td>-73.2472</td>\n      <td>Casa Morey Hotel &amp; Restaurant</td>\n    </tr>\n    <tr>\n      <th>60</th>\n      <td>Avarua</td>\n      <td>CK</td>\n      <td>24.03</td>\n      <td>-21.2078</td>\n      <td>-159.7750</td>\n      <td>Paradise Inn</td>\n    </tr>\n    <tr>\n      <th>61</th>\n      <td>Muroto-misakicho</td>\n      <td>JP</td>\n      <td>21.02</td>\n      <td>33.2833</td>\n      <td>134.1500</td>\n      <td>Oota Ryokan</td>\n    </tr>\n    <tr>\n      <th>64</th>\n      <td>Zemio</td>\n      <td>CF</td>\n      <td>20.12</td>\n      <td>5.0314</td>\n      <td>25.1361</td>\n      <td>OCHA Office</td>\n    </tr>\n    <tr>\n      <th>66</th>\n      <td>Hithadhoo</td>\n      <td>MV</td>\n      <td>28.19</td>\n      <td>-0.6000</td>\n      <td>73.0833</td>\n      <td>Scoop Guest House</td>\n    </tr>\n    <tr>\n      <th>72</th>\n      <td>Ixtapa</td>\n      <td>MX</td>\n      <td>30.13</td>\n      <td>20.7000</td>\n      <td>-105.2000</td>\n      <td>Hotel Plaza Providencia</td>\n    </tr>\n    <tr>\n      <th>73</th>\n      <td>Bengkulu</td>\n      <td>ID</td>\n      <td>23.10</td>\n      <td>-3.8004</td>\n      <td>102.2655</td>\n      <td>Grage Hotel Bengkulu</td>\n    </tr>\n    <tr>\n      <th>74</th>\n      <td>Atuona</td>\n      <td>PF</td>\n      <td>26.77</td>\n      <td>-9.8000</td>\n      <td>-139.0333</td>\n      <td>Villa Enata</td>\n    </tr>\n    <tr>\n      <th>76</th>\n      <td>Touros</td>\n      <td>BR</td>\n      <td>24.50</td>\n      <td>-5.1989</td>\n      <td>-35.4608</td>\n      <td>INN NEW HORIZON</td>\n    </tr>\n    <tr>\n      <th>77</th>\n      <td>Puerto Ayora</td>\n      <td>EC</td>\n      <td>26.98</td>\n      <td>-0.7393</td>\n      <td>-90.3518</td>\n      <td>Finch Bay Galapagos Hotel</td>\n    </tr>\n    <tr>\n      <th>...</th>\n      <td>...</td>\n      <td>...</td>\n      <td>...</td>\n      <td>...</td>\n      <td>...</td>\n      <td>...</td>\n    </tr>\n    <tr>\n      <th>635</th>\n      <td>Estelle</td>\n      <td>US</td>\n      <td>27.77</td>\n      <td>29.8458</td>\n      <td>-90.1067</td>\n      <td>Ohio</td>\n    </tr>\n    <tr>\n      <th>639</th>\n      <td>Villa Bruzual</td>\n      <td>VE</td>\n      <td>22.22</td>\n      <td>9.3328</td>\n      <td>-69.1208</td>\n      <td>Edificio Guarente</td>\n    </tr>\n    <tr>\n      <th>640</th>\n      <td>Jobabo</td>\n      <td>CU</td>\n      <td>26.35</td>\n      <td>20.9692</td>\n      <td>-76.2994</td>\n      <td>Motel De Aguas Claras</td>\n    </tr>\n    <tr>\n      <th>642</th>\n      <td>San Felipe</td>\n      <td>VE</td>\n      <td>22.61</td>\n      <td>10.3399</td>\n      <td>-68.7425</td>\n      <td>Posada Llovizna Rodríguez</td>\n    </tr>\n    <tr>\n      <th>645</th>\n      <td>Padang</td>\n      <td>ID</td>\n      <td>24.22</td>\n      <td>-0.9492</td>\n      <td>100.3543</td>\n      <td>Mercure Padang</td>\n    </tr>\n    <tr>\n      <th>647</th>\n      <td>Manjeshwar</td>\n      <td>IN</td>\n      <td>26.53</td>\n      <td>12.7194</td>\n      <td>74.8861</td>\n      <td>Shenoy's food Corner</td>\n    </tr>\n    <tr>\n      <th>651</th>\n      <td>Bereket</td>\n      <td>TM</td>\n      <td>22.66</td>\n      <td>39.2446</td>\n      <td>55.5154</td>\n      <td>Railway motel</td>\n    </tr>\n    <tr>\n      <th>652</th>\n      <td>Tecolutla</td>\n      <td>MX</td>\n      <td>30.02</td>\n      <td>20.4833</td>\n      <td>-97.0167</td>\n      <td>Hotel Plaza Marsol</td>\n    </tr>\n    <tr>\n      <th>653</th>\n      <td>Umluj</td>\n      <td>SA</td>\n      <td>28.02</td>\n      <td>25.0213</td>\n      <td>37.2685</td>\n      <td>Moon light Furnished Units</td>\n    </tr>\n    <tr>\n      <th>655</th>\n      <td>Sechura</td>\n      <td>PE</td>\n      <td>22.67</td>\n      <td>-5.5569</td>\n      <td>-80.8222</td>\n      <td>Hospedaje Costa Bella</td>\n    </tr>\n    <tr>\n      <th>656</th>\n      <td>La Santisima Trinidad</td>\n      <td>BO</td>\n      <td>24.99</td>\n      <td>-14.8333</td>\n      <td>-64.9000</td>\n      <td>Hotel Piesta</td>\n    </tr>\n    <tr>\n      <th>658</th>\n      <td>Erenhot</td>\n      <td>CN</td>\n      <td>21.52</td>\n      <td>43.6475</td>\n      <td>111.9767</td>\n      <td>Erenhot Rurouni Youth Hostel</td>\n    </tr>\n    <tr>\n      <th>659</th>\n      <td>Bathsheba</td>\n      <td>BB</td>\n      <td>27.34</td>\n      <td>13.2167</td>\n      <td>-59.5167</td>\n      <td>Atlantis Hotel</td>\n    </tr>\n    <tr>\n      <th>671</th>\n      <td>Bandarbeyla</td>\n      <td>SO</td>\n      <td>26.04</td>\n      <td>9.4942</td>\n      <td>50.8122</td>\n      <td>JABIR HOTEL</td>\n    </tr>\n    <tr>\n      <th>672</th>\n      <td>Maumere</td>\n      <td>ID</td>\n      <td>25.79</td>\n      <td>-8.6199</td>\n      <td>122.2111</td>\n      <td>Sylvia Hotel</td>\n    </tr>\n    <tr>\n      <th>673</th>\n      <td>Mbandaka</td>\n      <td>CD</td>\n      <td>20.52</td>\n      <td>0.0487</td>\n      <td>18.2603</td>\n      <td>Guest House Epervier</td>\n    </tr>\n    <tr>\n      <th>676</th>\n      <td>Kot Diji</td>\n      <td>PK</td>\n      <td>31.01</td>\n      <td>27.3427</td>\n      <td>68.7083</td>\n      <td>Heritage Park, Restaurant &amp; Guesthouse Kotdiji</td>\n    </tr>\n    <tr>\n      <th>678</th>\n      <td>Zinder</td>\n      <td>NE</td>\n      <td>30.42</td>\n      <td>13.8072</td>\n      <td>8.9881</td>\n      <td>Hotel de Ville</td>\n    </tr>\n    <tr>\n      <th>679</th>\n      <td>Pīpri</td>\n      <td>IN</td>\n      <td>26.18</td>\n      <td>19.8000</td>\n      <td>75.5333</td>\n      <td>Sukhana River nilu and rushi home</td>\n    </tr>\n    <tr>\n      <th>680</th>\n      <td>Kisangani</td>\n      <td>CD</td>\n      <td>21.13</td>\n      <td>0.5167</td>\n      <td>25.2000</td>\n      <td>Grand Ramela Hotel</td>\n    </tr>\n    <tr>\n      <th>683</th>\n      <td>Senneterre</td>\n      <td>CA</td>\n      <td>31.12</td>\n      <td>48.3835</td>\n      <td>-77.2328</td>\n      <td>Motel Senabi</td>\n    </tr>\n    <tr>\n      <th>684</th>\n      <td>Wanning</td>\n      <td>CN</td>\n      <td>26.19</td>\n      <td>18.8003</td>\n      <td>110.3967</td>\n      <td>Paradise Hotel</td>\n    </tr>\n    <tr>\n      <th>685</th>\n      <td>Nurota</td>\n      <td>UZ</td>\n      <td>25.05</td>\n      <td>40.5614</td>\n      <td>65.6886</td>\n      <td>Guest House Ruslan Nurata &amp; Tours</td>\n    </tr>\n    <tr>\n      <th>686</th>\n      <td>Puerto Escondido</td>\n      <td>MX</td>\n      <td>29.30</td>\n      <td>15.8500</td>\n      <td>-97.0667</td>\n      <td>Aldea del Bazar Hotel and Spa</td>\n    </tr>\n    <tr>\n      <th>688</th>\n      <td>São João da Barra</td>\n      <td>BR</td>\n      <td>23.52</td>\n      <td>-21.6403</td>\n      <td>-41.0511</td>\n      <td>Pousada Porto De Canoas</td>\n    </tr>\n    <tr>\n      <th>689</th>\n      <td>Cabedelo</td>\n      <td>BR</td>\n      <td>23.37</td>\n      <td>-6.9811</td>\n      <td>-34.8339</td>\n      <td>Hotel Pigalle</td>\n    </tr>\n    <tr>\n      <th>690</th>\n      <td>Kamaishi</td>\n      <td>JP</td>\n      <td>20.53</td>\n      <td>39.2667</td>\n      <td>141.8833</td>\n      <td>Hotel Route Inn Kamaishi</td>\n    </tr>\n    <tr>\n      <th>691</th>\n      <td>Mastic Beach</td>\n      <td>US</td>\n      <td>30.02</td>\n      <td>40.7668</td>\n      <td>-72.8521</td>\n      <td>Brushwood House by Smith Point Beach</td>\n    </tr>\n    <tr>\n      <th>693</th>\n      <td>Tura</td>\n      <td>IN</td>\n      <td>22.19</td>\n      <td>25.5198</td>\n      <td>90.2201</td>\n      <td>Hotel RIKMAN Continental</td>\n    </tr>\n    <tr>\n      <th>694</th>\n      <td>Seydi</td>\n      <td>TM</td>\n      <td>29.88</td>\n      <td>39.4816</td>\n      <td>62.9137</td>\n      <td>Seydi oteli</td>\n    </tr>\n  </tbody>\n</table>\n<p>293 rows × 6 columns</p>\n</div>"
     },
     "metadata": {},
     "execution_count": 18
    }
   ],
   "source": [
    "hotel_df"
   ]
  },
  {
   "cell_type": "code",
   "execution_count": 20,
   "metadata": {},
   "outputs": [],
   "source": [
    "# 7. Drop the rows where there is no Hotel Name.\n",
    "missing_hotels_df = hotel_df.loc[(hotel_df['Hotel Name'] == '')]\n",
    "voidlist = missing_hotels_df.index\n",
    "hotel_df = hotel_df.drop(voidlist)\n",
    "#Conclusion: No empty hotel name in the dataframe"
   ]
  },
  {
   "cell_type": "code",
   "execution_count": 21,
   "metadata": {},
   "outputs": [],
   "source": [
    "# 8a. Create the output File (CSV)\n",
    "output_data_file = \"vaccation_data/WeatherPy_vacation.csv\"\n",
    "# 8b. Export the City_Data into a csv\n",
    "hotel_df.to_csv(output_data_file, index_label=\"City_ID\")"
   ]
  },
  {
   "cell_type": "code",
   "execution_count": 34,
   "metadata": {},
   "outputs": [
    {
     "output_type": "display_data",
     "data": {
      "text/plain": "Figure(layout=FigureLayout(height='420px'))",
      "application/vnd.jupyter.widget-view+json": {
       "version_major": 2,
       "version_minor": 0,
       "model_id": "5072df3fae0c43829caa837b15bfc9d1"
      }
     },
     "metadata": {}
    }
   ],
   "source": [
    "# 9. Using the template add city name, the country code, the weather description and maximum temperature for the city.\n",
    "info_box_template = \"\"\"\n",
    "<dl>\n",
    "<dt>Hotel Name</dt><dd>{Hotel Name}</dd>\n",
    "<dt>City</dt><dd>{City}</dd>\n",
    "<dt>Country</dt><dd>{Country}</dd>\n",
    "<dt>Max Temp</dt><dd>{Max Temp} °C</dd>\n",
    "</dl>\n",
    "\"\"\"\n",
    "\n",
    "# Store the DataFrame Row.\n",
    "hotel_info = [info_box_template.format(**row) for index, row in hotel_df.iterrows()]\n",
    "\n",
    "# Add a heatmap of temperature for the vacation spots and a pop-up marker for each city.\n",
    "locations = hotel_df[[\"Lat\", \"Lng\"]]\n",
    "max_temp = hotel_df[\"Max Temp\"]\n",
    "fig = gmaps.figure(center=(30.0, 31.0), zoom_level=1.5)\n",
    "heat_layer = gmaps.heatmap_layer(locations, weights=max_temp,dissipating=False,\n",
    "             max_intensity=300, point_radius=4)\n",
    "marker_layer = gmaps.marker_layer(locations, info_box_content=hotel_info)\n",
    "fig.add_layer(heat_layer)\n",
    "fig.add_layer(marker_layer)\n",
    "fig\n",
    "\n"
   ]
  },
  {
   "cell_type": "code",
   "execution_count": null,
   "metadata": {},
   "outputs": [],
   "source": []
  }
 ],
 "metadata": {
  "kernelspec": {
   "name": "python370jvsc74a57bd05572c7b15414d34e15d04c80987db17fef1cb2d73338f68ee8a8228bc15fcb96",
   "display_name": "Python 3.7.0 64-bit ('base': conda)"
  },
  "language_info": {
   "codemirror_mode": {
    "name": "ipython",
    "version": 3
   },
   "file_extension": ".py",
   "mimetype": "text/x-python",
   "name": "python",
   "nbconvert_exporter": "python",
   "pygments_lexer": "ipython3",
   "version": "3.7.0"
  },
  "latex_envs": {
   "LaTeX_envs_menu_present": true,
   "autoclose": false,
   "autocomplete": true,
   "bibliofile": "biblio.bib",
   "cite_by": "apalike",
   "current_citInitial": 1,
   "eqLabelWithNumbers": true,
   "eqNumInitial": 1,
   "hotkeys": {
    "equation": "Ctrl-E",
    "itemize": "Ctrl-I"
   },
   "labels_anchors": false,
   "latex_user_defs": false,
   "report_style_numbering": false,
   "user_envs_cfg": false
  }
 },
 "nbformat": 4,
 "nbformat_minor": 2
}